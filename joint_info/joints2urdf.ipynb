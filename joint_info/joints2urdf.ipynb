{
 "cells": [
  {
   "cell_type": "code",
   "execution_count": 1,
   "metadata": {},
   "outputs": [],
   "source": [
    "from joints import joints_dict\n",
    "from xml.etree import ElementTree\n",
    "from xml.etree.ElementTree import Element, SubElement, Comment, tostring\n",
    "from xml.dom import minidom"
   ]
  },
  {
   "cell_type": "code",
   "execution_count": 2,
   "metadata": {
    "scrolled": true
   },
   "outputs": [],
   "source": [
    "def mm2m(dct):\n",
    "    for i in dct:\n",
    "        xyz = dct[i]['xyz']\n",
    "        dct[i]['xyz'] = [round(_ / 1000.0, 6) for _ in xyz]\n",
    "    return dct\n",
    "\n",
    "mm2m(joints_dict)  # convert milimeter to meter\n",
    "link_dict = {}\n",
    "repo = 'rockerbogie/For_URDF/bin_stl/'        \n",
    "file_name = 'test.urdf'"
   ]
  },
  {
   "cell_type": "code",
   "execution_count": 3,
   "metadata": {},
   "outputs": [],
   "source": [
    "def prettify(elem):\n",
    "    \"\"\"Return a pretty-printed XML string for the Element.\n",
    "    \"\"\"\n",
    "    rough_string = ElementTree.tostring(elem, 'utf-8')\n",
    "    reparsed = minidom.parseString(rough_string)\n",
    "    return reparsed.toprettyxml(indent=\"  \")"
   ]
  },
  {
   "cell_type": "code",
   "execution_count": 4,
   "metadata": {},
   "outputs": [],
   "source": [
    "class Link:\n",
    "    def __init__(self, name, xyz, repo):\n",
    "        self.name = name\n",
    "        self.xyz = xyz\n",
    "        self.xml = None\n",
    "        self.repo = repo\n",
    "        \n",
    "    def gen_link_xml(self):\n",
    "        \"\"\"generate the xml strings of links\n",
    "        \"\"\"\n",
    "        self.xyz = [-_ for _ in self.xyz]  # reverse the sign of xyz\n",
    "        \n",
    "        link = Element('link')\n",
    "        link.attrib = {'name':self.name}\n",
    "        \n",
    "        # visual\n",
    "        visual = SubElement(link, 'visual')\n",
    "        origin_v = SubElement(visual, 'origin')\n",
    "        origin_v.attrib = {'xyz':' '.join([str(_) for _ in self.xyz]), 'rpy':'0 0 0'}\n",
    "        geometry_v = SubElement(visual, 'geometry')\n",
    "        mesh_v = SubElement(geometry_v, 'mesh')\n",
    "        mesh_v.attrib = {'filename':'package://' + self.repo + self.name + '_m-binary.stl'}\n",
    "        material = SubElement(visual, 'material')\n",
    "        material.attrib = {'name':'silver'}\n",
    "        color = SubElement(material, 'color')\n",
    "        color.attrib = {'rgba':'1 0 0 1'}\n",
    "        \n",
    "        # collision\n",
    "        collision = SubElement(link, 'collision')\n",
    "        origin_c = SubElement(collision, 'origin')\n",
    "        origin_c.attrib = {'xyz':' '.join([str(_) for _ in self.xyz]), 'rpy':'0 0 0'}\n",
    "        geometry_c = SubElement(collision, 'geometry')\n",
    "        mesh_c = SubElement(geometry_c, 'mesh')\n",
    "        mesh_c.attrib = {'filename':'package://' + self.repo + self.name + '_m-binary.stl'}\n",
    "\n",
    "        # print(\"\\n\".join(prettify(link).split(\"\\n\")[1:]))\n",
    "        self.xml = \"\\n\".join(prettify(link).split(\"\\n\")[1:])"
   ]
  },
  {
   "cell_type": "code",
   "execution_count": 5,
   "metadata": {},
   "outputs": [],
   "source": [
    "def link_gen(dct, repo, link_dict, file_name):\n",
    "    \"\"\"This generates link urdf. Link_dict will be used in joint_gen.\n",
    "    \"\"\"\n",
    "    with open(file_name, mode='w') as f:\n",
    "        # about base_link\n",
    "        link = Link(name='base_link', xyz=[0,0,0], repo=repo)\n",
    "        link.gen_link_xml()\n",
    "        f.write(link.xml)\n",
    "        link_dict[link.name] = link.xyz\n",
    "        # others\n",
    "        for joint in dct:\n",
    "            link = Link(name=dct[joint]['child'], xyz=dct[joint]['xyz'], repo=repo)\n",
    "            link.gen_link_xml()\n",
    "            f.write(link.xml)\n",
    "            link_dict[link.name] = link.xyz\n",
    "            \n",
    "\n",
    "link_gen(joints_dict, repo, link_dict, file_name)"
   ]
  },
  {
   "cell_type": "code",
   "execution_count": 6,
   "metadata": {},
   "outputs": [
    {
     "data": {
      "text/plain": [
       "{'back_leg_left': [0.068, -0.0344, -0.0338],\n",
       " 'back_leg_right': [0.068, -0.0344, -0.0338],\n",
       " 'back_wheel_left': [-0.126994, -0.130414, 0.085529],\n",
       " 'back_wheel_right': [0.131994, -0.130414, 0.085529],\n",
       " 'base_link': [0, 0, 0],\n",
       " 'front_leg_left': [-0.099999, 0.127661, 0.022845],\n",
       " 'front_leg_right': [0.099999, 0.127661, 0.022845],\n",
       " 'front_wheel_left': [-0.136399, 0.212358, 0.095775],\n",
       " 'front_wheel_right': [0.136999, 0.212358, 0.095775],\n",
       " 'middle_wheel_left': [-0.135999, 0.040876, 0.093783],\n",
       " 'middle_wheel_right': [0.135999, 0.040876, 0.093783]}"
      ]
     },
     "execution_count": 6,
     "metadata": {},
     "output_type": "execute_result"
    }
   ],
   "source": [
    "link_dict"
   ]
  },
  {
   "cell_type": "code",
   "execution_count": 7,
   "metadata": {},
   "outputs": [
    {
     "data": {
      "text/plain": [
       "'a'"
      ]
     },
     "execution_count": 7,
     "metadata": {},
     "output_type": "execute_result"
    }
   ],
   "source": [
    "p = {'a':[1,3,4]}\n",
    "p.keys()[0]"
   ]
  },
  {
   "cell_type": "code",
   "execution_count": 8,
   "metadata": {},
   "outputs": [],
   "source": [
    "class Joint:\n",
    "    def __init__(self, name, xyz, axis, parent, child, type_='continuous'):\n",
    "        self.name = name\n",
    "        self.type = type_\n",
    "        self.xyz = xyz\n",
    "        self.parent = parent\n",
    "        self.child = child\n",
    "        self.axis = axis\n",
    "        self.xml = None\n",
    "    \n",
    "    def gen_joint_xml(self):\n",
    "        \"\"\"generate the xml strings of joints\n",
    "        \"\"\"\n",
    "        joint = Element('joint')\n",
    "        joint.attrib = {'name':self.name}\n",
    "        \n",
    "        origin = SubElement(joint, 'origin')\n",
    "        origin.attrib = {'xyz':' '.join([str(_) for _ in self.xyz]), 'rpy':'0 0 0'}\n",
    "        parent = SubElement(joint, 'parent')\n",
    "        parent.attrib = {'link':self.parent}\n",
    "        child = SubElement(joint, 'child')\n",
    "        child.attrib = {'link':self.child}\n",
    "        axis = SubElement(joint, 'axis')\n",
    "        axis.attrib = {'xyz':' '.join([str(_) for _ in self.axis])}\n",
    "        \n",
    "        # print(\"\\n\".join(prettify(joint).split(\"\\n\")[1:]))\n",
    "        self.xml = \"\\n\".join(prettify(joint).split(\"\\n\")[1:])"
   ]
  },
  {
   "cell_type": "code",
   "execution_count": 9,
   "metadata": {},
   "outputs": [],
   "source": [
    "def joint_gen(dct, repo, link_dict, file_name):\n",
    "    with open(file_name, mode='a') as f:\n",
    "        for j in dct:\n",
    "            parent = dct[j]['parent']\n",
    "            child = dct[j]['child']\n",
    "            xyz = [round(p-c, 6) for p, c in \\\n",
    "                   zip(link_dict[parent], link_dict[child])]  # xyz = paret - child\n",
    "            joint = Joint(name=j, xyz=xyz, axis=dct[j]['axis'],\\\n",
    "                          parent=parent, child=child)\n",
    "            joint.gen_joint_xml()\n",
    "            f.write(joint.xml)\n",
    "        \n",
    "joint_gen(joints_dict, repo, link_dict, file_name)"
   ]
  },
  {
   "cell_type": "code",
   "execution_count": 10,
   "metadata": {},
   "outputs": [
    {
     "data": {
      "text/plain": [
       "{'back_leg_left': [0.068, -0.0344, -0.0338],\n",
       " 'back_leg_right': [0.068, -0.0344, -0.0338],\n",
       " 'back_wheel_left': [-0.126994, -0.130414, 0.085529],\n",
       " 'back_wheel_right': [0.131994, -0.130414, 0.085529],\n",
       " 'base_link': [0, 0, 0],\n",
       " 'front_leg_left': [-0.099999, 0.127661, 0.022845],\n",
       " 'front_leg_right': [0.099999, 0.127661, 0.022845],\n",
       " 'front_wheel_left': [-0.136399, 0.212358, 0.095775],\n",
       " 'front_wheel_right': [0.136999, 0.212358, 0.095775],\n",
       " 'middle_wheel_left': [-0.135999, 0.040876, 0.093783],\n",
       " 'middle_wheel_right': [0.135999, 0.040876, 0.093783]}"
      ]
     },
     "execution_count": 10,
     "metadata": {},
     "output_type": "execute_result"
    }
   ],
   "source": [
    "link_dict"
   ]
  },
  {
   "cell_type": "code",
   "execution_count": 11,
   "metadata": {},
   "outputs": [
    {
     "data": {
      "text/plain": [
       "[-3, -3, -3]"
      ]
     },
     "execution_count": 11,
     "metadata": {},
     "output_type": "execute_result"
    }
   ],
   "source": [
    "pa = [1, 2, 3]\n",
    "ci = [4, 5, 6]\n",
    "[p-c for p, c in zip(pa, ci)]"
   ]
  }
 ],
 "metadata": {
  "kernelspec": {
   "display_name": "Python 2",
   "language": "python",
   "name": "python2"
  },
  "language_info": {
   "codemirror_mode": {
    "name": "ipython",
    "version": 2
   },
   "file_extension": ".py",
   "mimetype": "text/x-python",
   "name": "python",
   "nbconvert_exporter": "python",
   "pygments_lexer": "ipython2",
   "version": "2.7.12"
  }
 },
 "nbformat": 4,
 "nbformat_minor": 2
}
